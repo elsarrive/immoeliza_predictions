{
 "cells": [
  {
   "cell_type": "code",
   "execution_count": null,
   "id": "3534d8aa",
   "metadata": {},
   "outputs": [],
   "source": [
    "import predictions_elsa as p\n",
    "import numpy as np\n",
    "import pandas as pd\n",
    "import pickle"
   ]
  },
  {
   "cell_type": "code",
   "execution_count": 5,
   "id": "f760d1c3",
   "metadata": {},
   "outputs": [],
   "source": [
    "with open(\"scaler.pkl\", \"rb\") as f:\n",
    "    pickle.load(f)\n",
    "\n",
    "with open(\"model.pkl\", \"rb\") as f:\n",
    "    pickle.load(f)\n"
   ]
  },
  {
   "cell_type": "code",
   "execution_count": 23,
   "id": "eb65feb7",
   "metadata": {},
   "outputs": [],
   "source": [
    "df_final_order = ['id', 'bedroomCount', 'bathroomCount', 'habitableSurface', 'hasAttic',\n",
    "       'hasBasement', 'hasDressingRoom', 'hasDiningRoom', 'hasLift',\n",
    "       'hasHeatPump', 'hasPhotovoltaicPanels', 'hasThermicPanels',\n",
    "       'landSurface', 'hasLivingRoom', 'gardenSurface', 'hasAirConditioning',\n",
    "       'hasArmoredDoor', 'hasVisiophone', 'hasOffice', 'toiletCount',\n",
    "       'hasSwimmingPool', 'hasFireplace', 'terraceSurface', 'price',\n",
    "       'epc_enum', 'parkingCount', 'subtype_group',\n",
    "       'buildingConstructionYear_mapping', 'isHouse', 'province_mapping',\n",
    "       'buildingCondition_mapping', 'floodZoneType_mapping',\n",
    "       'heatingType_mapping', 'kitchenType_mapping', 'facadecount_mapping',\n",
    "       'latitude', 'longitude', 'primaryEnergyConsumptionPerSqm',\n",
    "       'cadastralIncome'],\n",
    "\n",
    "house_or_appart = { \n",
    "    'Unnamed: 0' : np.nan,\n",
    "    'id' : np.nan,\n",
    "    'url' : np.nan,\n",
    "    'type' : 'HOUSE',\n",
    "    'subtype' : 'HOUSE',\n",
    "    'bedroomCount' : 2,\n",
    "    'bathroomCount' : 2, \n",
    "    'province' : 'Liège', \n",
    "    'locality' : 'Liège',\n",
    "    'postCode' : 4041,\n",
    "    'habitableSurface' : 350, \n",
    "    'roomCount' : np.nan,\n",
    "    'monthlyCost' : np.nan,\n",
    "    'hasAttic' : 'False',\n",
    "    'hasBasement' : 'False',\n",
    "    'hasDressingRoom' : np.nan,\n",
    "    'diningRoomSurface' : np.nan,\n",
    "    'hasDiningRoom' : 'False',\n",
    "    'buildingCondition' : 'AS_NEW',\n",
    "    'buildingConstructionYear' : 1899,\n",
    "    'facedeCount' : 10,\n",
    "    'floorCount' : np.nan,\n",
    "    'streetFacadeWidth' : np.nan,\n",
    "    'hasLift' : 'False',\n",
    "    'floodZoneType' : np.nan, \n",
    "    'heatingType' : 'GAS',\n",
    "    'hasHeatPump' : 'False',\n",
    "    'hasPhotovoltaicPanels' : 'True',\n",
    "    'hasThermicPanels' : np.nan,\n",
    "    'kitchenSurface' : np.nan,\n",
    "    'kitchenType' : 'INSTALLED',\n",
    "    'landSurface' : 100,\n",
    "    'hasLivingRoom' : 'False',\n",
    "    'livingRoomSurface' : np.nan,\n",
    "    'hasBalcony' : 'False',\n",
    "    'hasGarden' : 'False',\n",
    "    'gardenSurface' : 0,\n",
    "    'gardenOrientation' : np.nan,\n",
    "    'parkingCountIndoor' : 0,\n",
    "    'parkingCountOutdoor' : np.nan,\n",
    "    'hasAirConditioning' : 'False',\n",
    "    'hasArmoredDoor' : np.nan,\n",
    "    'hasVisiophone' : np.nan,\n",
    "    'hasOffice' : 'True',\n",
    "    'toiletCount' : 3,\n",
    "    'hasSwimmingPool' : 'False',\n",
    "    'hasFireplace' : np.nan,\n",
    "    'hasTerrace' : 'False',\n",
    "    'terraceSurface' : np.nan,\n",
    "    'terraceOrientation' : np.nan,\n",
    "    'accessibleDisabledPeople' : np.nan,\n",
    "    'epcScore' : 'A',\n",
    "    'price' : np.nan\n",
    "\n",
    "}\n",
    "\n",
    "def prediction(house_or_appart):\n",
    "    # 1. Création du DataFrame à partir du dict 'propre' (raw features)\n",
    "    df_new = pd.DataFrame([house_or_appart])\n",
    "\n",
    "    # 2. Nettoyage & feature engineering\n",
    "    df_new_clean = p.cleaning_dataframe(df_new, is_training=False)\n",
    "\n",
    "    # 3. Imputations\n",
    "    df_new_clean_imputed = p.transform_cleaning_traintestsplit(df_new_clean, p.stats_from_X_train, is_training=False)\n",
    "\n",
    "    # 4. Scaling (en gardant le fit de tes données d’entraînement)\n",
    "    columns_for_model = p.scaler.feature_names_in_.tolist()\n",
    "    df_new_clean_imputed = df_new_clean_imputed[columns_for_model]\n",
    "\n",
    "    df_new_scaled = p.scaler.transform(df_new_clean_imputed)\n",
    "\n",
    "    # 5. Prédiction\n",
    "    predicted_price = p.xgb_model.predict(df_new_scaled)\n",
    "\n",
    "    print(f\"Le prix prédit est {predicted_price[0]:,.0f} €\".replace(',', ' '))"
   ]
  },
  {
   "cell_type": "code",
   "execution_count": 24,
   "id": "31b28c04",
   "metadata": {},
   "outputs": [
    {
     "name": "stdout",
     "output_type": "stream",
     "text": [
      "Le prix prédit est 573 883 €\n"
     ]
    },
    {
     "name": "stderr",
     "output_type": "stream",
     "text": [
      "c:\\Users\\elsar\\Desktop\\AI_bootcamp\\immoeliza\\n_s\\predictions_elsa.py:126: FutureWarning: Setting an item of incompatible dtype is deprecated and will raise in a future error of pandas. Value '['False']' has dtype incompatible with float64, please explicitly cast to a compatible dtype first.\n",
      "  df_without_outliers.loc[:, booleans_columns] = df_without_outliers[booleans_columns].fillna('False')\n",
      "c:\\Users\\elsar\\Desktop\\AI_bootcamp\\immoeliza\\n_s\\predictions_elsa.py:126: FutureWarning: Setting an item of incompatible dtype is deprecated and will raise in a future error of pandas. Value '['False']' has dtype incompatible with float64, please explicitly cast to a compatible dtype first.\n",
      "  df_without_outliers.loc[:, booleans_columns] = df_without_outliers[booleans_columns].fillna('False')\n",
      "c:\\Users\\elsar\\Desktop\\AI_bootcamp\\immoeliza\\n_s\\predictions_elsa.py:126: FutureWarning: Setting an item of incompatible dtype is deprecated and will raise in a future error of pandas. Value '['False']' has dtype incompatible with float64, please explicitly cast to a compatible dtype first.\n",
      "  df_without_outliers.loc[:, booleans_columns] = df_without_outliers[booleans_columns].fillna('False')\n",
      "c:\\Users\\elsar\\Desktop\\AI_bootcamp\\immoeliza\\n_s\\predictions_elsa.py:126: FutureWarning: Setting an item of incompatible dtype is deprecated and will raise in a future error of pandas. Value '['False']' has dtype incompatible with float64, please explicitly cast to a compatible dtype first.\n",
      "  df_without_outliers.loc[:, booleans_columns] = df_without_outliers[booleans_columns].fillna('False')\n",
      "c:\\Users\\elsar\\Desktop\\AI_bootcamp\\immoeliza\\n_s\\predictions_elsa.py:126: FutureWarning: Setting an item of incompatible dtype is deprecated and will raise in a future error of pandas. Value '['False']' has dtype incompatible with float64, please explicitly cast to a compatible dtype first.\n",
      "  df_without_outliers.loc[:, booleans_columns] = df_without_outliers[booleans_columns].fillna('False')\n"
     ]
    }
   ],
   "source": [
    "prediction(house_or_appart)"
   ]
  },
  {
   "cell_type": "code",
   "execution_count": null,
   "id": "869d48c0",
   "metadata": {},
   "outputs": [],
   "source": []
  }
 ],
 "metadata": {
  "kernelspec": {
   "display_name": "Python 3",
   "language": "python",
   "name": "python3"
  },
  "language_info": {
   "codemirror_mode": {
    "name": "ipython",
    "version": 3
   },
   "file_extension": ".py",
   "mimetype": "text/x-python",
   "name": "python",
   "nbconvert_exporter": "python",
   "pygments_lexer": "ipython3",
   "version": "3.13.3"
  }
 },
 "nbformat": 4,
 "nbformat_minor": 5
}
